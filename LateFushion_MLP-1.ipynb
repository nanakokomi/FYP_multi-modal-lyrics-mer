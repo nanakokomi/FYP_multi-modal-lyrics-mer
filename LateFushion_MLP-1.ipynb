{
 "cells": [
  {
   "cell_type": "code",
   "execution_count": 2,
   "metadata": {},
   "outputs": [],
   "source": [
    "import pandas as pd\n",
    "import numpy as np\n",
    "from sklearn.neural_network import MLPRegressor\n",
    "from sklearn.metrics import mean_squared_error, r2_score"
   ]
  },
  {
   "cell_type": "code",
   "execution_count": 3,
   "metadata": {},
   "outputs": [],
   "source": [
    "# === Step 1: 读取三个输入文件 ===\n",
    "# 真值包含 y_valence 和 y_arousal 列\n",
    "df_truth = pd.read_csv(\"data/merged/merged_cleaned_sentiment_validation.csv\")\n",
    "df_audio = pd.read_csv(\"AUdio_predictions_mlp.csv\")\n",
    "df_lyrics = pd.read_csv(\"csv/lyrics/Lyrics_predictions_mlp_torch.csv\")"
   ]
  },
  {
   "cell_type": "code",
   "execution_count": 4,
   "metadata": {},
   "outputs": [
    {
     "data": {
      "text/html": [
       "<style>#sk-container-id-1 {color: black;background-color: white;}#sk-container-id-1 pre{padding: 0;}#sk-container-id-1 div.sk-toggleable {background-color: white;}#sk-container-id-1 label.sk-toggleable__label {cursor: pointer;display: block;width: 100%;margin-bottom: 0;padding: 0.3em;box-sizing: border-box;text-align: center;}#sk-container-id-1 label.sk-toggleable__label-arrow:before {content: \"▸\";float: left;margin-right: 0.25em;color: #696969;}#sk-container-id-1 label.sk-toggleable__label-arrow:hover:before {color: black;}#sk-container-id-1 div.sk-estimator:hover label.sk-toggleable__label-arrow:before {color: black;}#sk-container-id-1 div.sk-toggleable__content {max-height: 0;max-width: 0;overflow: hidden;text-align: left;background-color: #f0f8ff;}#sk-container-id-1 div.sk-toggleable__content pre {margin: 0.2em;color: black;border-radius: 0.25em;background-color: #f0f8ff;}#sk-container-id-1 input.sk-toggleable__control:checked~div.sk-toggleable__content {max-height: 200px;max-width: 100%;overflow: auto;}#sk-container-id-1 input.sk-toggleable__control:checked~label.sk-toggleable__label-arrow:before {content: \"▾\";}#sk-container-id-1 div.sk-estimator input.sk-toggleable__control:checked~label.sk-toggleable__label {background-color: #d4ebff;}#sk-container-id-1 div.sk-label input.sk-toggleable__control:checked~label.sk-toggleable__label {background-color: #d4ebff;}#sk-container-id-1 input.sk-hidden--visually {border: 0;clip: rect(1px 1px 1px 1px);clip: rect(1px, 1px, 1px, 1px);height: 1px;margin: -1px;overflow: hidden;padding: 0;position: absolute;width: 1px;}#sk-container-id-1 div.sk-estimator {font-family: monospace;background-color: #f0f8ff;border: 1px dotted black;border-radius: 0.25em;box-sizing: border-box;margin-bottom: 0.5em;}#sk-container-id-1 div.sk-estimator:hover {background-color: #d4ebff;}#sk-container-id-1 div.sk-parallel-item::after {content: \"\";width: 100%;border-bottom: 1px solid gray;flex-grow: 1;}#sk-container-id-1 div.sk-label:hover label.sk-toggleable__label {background-color: #d4ebff;}#sk-container-id-1 div.sk-serial::before {content: \"\";position: absolute;border-left: 1px solid gray;box-sizing: border-box;top: 0;bottom: 0;left: 50%;z-index: 0;}#sk-container-id-1 div.sk-serial {display: flex;flex-direction: column;align-items: center;background-color: white;padding-right: 0.2em;padding-left: 0.2em;position: relative;}#sk-container-id-1 div.sk-item {position: relative;z-index: 1;}#sk-container-id-1 div.sk-parallel {display: flex;align-items: stretch;justify-content: center;background-color: white;position: relative;}#sk-container-id-1 div.sk-item::before, #sk-container-id-1 div.sk-parallel-item::before {content: \"\";position: absolute;border-left: 1px solid gray;box-sizing: border-box;top: 0;bottom: 0;left: 50%;z-index: -1;}#sk-container-id-1 div.sk-parallel-item {display: flex;flex-direction: column;z-index: 1;position: relative;background-color: white;}#sk-container-id-1 div.sk-parallel-item:first-child::after {align-self: flex-end;width: 50%;}#sk-container-id-1 div.sk-parallel-item:last-child::after {align-self: flex-start;width: 50%;}#sk-container-id-1 div.sk-parallel-item:only-child::after {width: 0;}#sk-container-id-1 div.sk-dashed-wrapped {border: 1px dashed gray;margin: 0 0.4em 0.5em 0.4em;box-sizing: border-box;padding-bottom: 0.4em;background-color: white;}#sk-container-id-1 div.sk-label label {font-family: monospace;font-weight: bold;display: inline-block;line-height: 1.2em;}#sk-container-id-1 div.sk-label-container {text-align: center;}#sk-container-id-1 div.sk-container {/* jupyter's `normalize.less` sets `[hidden] { display: none; }` but bootstrap.min.css set `[hidden] { display: none !important; }` so we also need the `!important` here to be able to override the default hidden behavior on the sphinx rendered scikit-learn.org. See: https://github.com/scikit-learn/scikit-learn/issues/21755 */display: inline-block !important;position: relative;}#sk-container-id-1 div.sk-text-repr-fallback {display: none;}</style><div id=\"sk-container-id-1\" class=\"sk-top-container\"><div class=\"sk-text-repr-fallback\"><pre>MLPRegressor(hidden_layer_sizes=(32, 16), max_iter=500, random_state=42)</pre><b>In a Jupyter environment, please rerun this cell to show the HTML representation or trust the notebook. <br />On GitHub, the HTML representation is unable to render, please try loading this page with nbviewer.org.</b></div><div class=\"sk-container\" hidden><div class=\"sk-item\"><div class=\"sk-estimator sk-toggleable\"><input class=\"sk-toggleable__control sk-hidden--visually\" id=\"sk-estimator-id-1\" type=\"checkbox\" checked><label for=\"sk-estimator-id-1\" class=\"sk-toggleable__label sk-toggleable__label-arrow\">MLPRegressor</label><div class=\"sk-toggleable__content\"><pre>MLPRegressor(hidden_layer_sizes=(32, 16), max_iter=500, random_state=42)</pre></div></div></div></div></div>"
      ],
      "text/plain": [
       "MLPRegressor(hidden_layer_sizes=(32, 16), max_iter=500, random_state=42)"
      ]
     },
     "execution_count": 4,
     "metadata": {},
     "output_type": "execute_result"
    }
   ],
   "source": [
    "\n",
    "# === Step 2: 构造特征与标签 ===\n",
    "# 输入 X: [audio_val, audio_aro, lyrics_val, lyrics_aro]\n",
    "X = np.hstack([df_audio.values, df_lyrics.values])\n",
    "# 目标 y: [valence, arousal]\n",
    "y = df_truth[[\"y_valence\", \"y_arousal\"]].values\n",
    "\n",
    "# === Step 3: 训练 MLP 学习型融合器 ===\n",
    "mlp = MLPRegressor(hidden_layer_sizes=(32, 16),\n",
    "                   activation='relu',\n",
    "                   max_iter=500,\n",
    "                   random_state=42)\n",
    "mlp.fit(X, y)\n",
    "\n",
    "\n",
    "\n"
   ]
  },
  {
   "cell_type": "code",
   "execution_count": 5,
   "metadata": {},
   "outputs": [
    {
     "name": "stdout",
     "output_type": "stream",
     "text": [
      "📊 MLP Late Fusion 结果:\n",
      "  RMSE for Valence: 0.9202\n",
      "  RMSE for Arousal: 0.8149\n",
      "  Normalized RMSE for Valence: 0.2643\n",
      "  Normalized RMSE for Arousal: 0.1601\n",
      "  R² for Valence: 0.2118\n",
      "  R² for Arousal: 0.2655\n"
     ]
    }
   ],
   "source": [
    "# === Step 4: 进行预测并评估 ===\n",
    "y_pred = mlp.predict(X)\n",
    "\n",
    "# 计算评估指标\n",
    "rmse_val = mean_squared_error(y[:, 0], y_pred[:, 0], squared=False)\n",
    "rmse_aro = mean_squared_error(y[:, 1], y_pred[:, 1], squared=False)\n",
    "r2_val = r2_score(y[:, 0], y_pred[:, 0])\n",
    "r2_aro = r2_score(y[:, 1], y_pred[:, 1])\n",
    "nrmse_val = rmse_val / (y[:, 0].max() - y[:, 0].min())\n",
    "nrmse_aro = rmse_aro / (y[:, 1].max() - y[:, 1].min())\n",
    "\n",
    "# 打印结果\n",
    "print(f\"📊 MLP Late Fusion 结果:\")\n",
    "print(f\"  RMSE for Valence: {rmse_val:.4f}\")\n",
    "print(f\"  RMSE for Arousal: {rmse_aro:.4f}\")\n",
    "print(f\"  Normalized RMSE for Valence: {nrmse_val:.4f}\")\n",
    "print(f\"  Normalized RMSE for Arousal: {nrmse_aro:.4f}\")\n",
    "print(f\"  R² for Valence: {r2_val:.4f}\")\n",
    "print(f\"  R² for Arousal: {r2_aro:.4f}\")\n"
   ]
  },
  {
   "cell_type": "code",
   "execution_count": 6,
   "metadata": {},
   "outputs": [
    {
     "name": "stdout",
     "output_type": "stream",
     "text": [
      "✅ 融合预测已保存至 fused_mlp_sklearn1.csv\n"
     ]
    }
   ],
   "source": [
    "# === Step 5: 保存融合预测结果（可选） ===\n",
    "df_pred = pd.DataFrame(y_pred, columns=[\"pred_valence\", \"pred_arousal\"])\n",
    "df_pred.to_csv(\"lateFushion/fused_mlp_sklearn1.csv\", index=False)\n",
    "print(\"✅ 融合预测已保存至 fused_mlp_sklearn1.csv\")"
   ]
  },
  {
   "cell_type": "markdown",
   "metadata": {},
   "source": [
    "# Evaluation"
   ]
  },
  {
   "cell_type": "code",
   "execution_count": 7,
   "metadata": {},
   "outputs": [],
   "source": [
    "import pandas as pd\n",
    "from sklearn.metrics import mean_squared_error, r2_score\n",
    "\n",
    "def evaluate_model_from_file(ground_truth_file, prediction_file):\n",
    "    \"\"\"\n",
    "    Evaluate model prediction given CSV files for ground truth and predicted values.\n",
    "    \n",
    "    Parameters:\n",
    "    - ground_truth_file: path to CSV with columns ['y_valence', 'y_arousal']\n",
    "    - prediction_file: path to CSV with columns ['pred_valence', 'pred_arousal']\n",
    "    \n",
    "    Returns:\n",
    "    - dict of evaluation metrics\n",
    "    \"\"\"\n",
    "\n",
    "    # Load data\n",
    "    df_true = pd.read_csv(ground_truth_file)\n",
    "    df_pred = pd.read_csv(prediction_file)\n",
    "\n",
    "    # Extract values\n",
    "    true_valence = df_true['y_valence'].values\n",
    "    true_arousal = df_true['y_arousal'].values\n",
    "    pred_valence = df_pred['pred_valence'].values\n",
    "    pred_arousal = df_pred['pred_arousal'].values\n",
    "\n",
    "    # RMSE\n",
    "    rmse_val = mean_squared_error(true_valence, pred_valence, squared=False)\n",
    "    rmse_aro = mean_squared_error(true_arousal, pred_arousal, squared=False)\n",
    "\n",
    "    # Normalized RMSE\n",
    "    range_val = max(true_valence) - min(true_valence)\n",
    "    range_aro = max(true_arousal) - min(true_arousal)\n",
    "    nrmse_val = rmse_val / range_val if range_val > 0 else None\n",
    "    nrmse_aro = rmse_aro / range_aro if range_aro > 0 else None\n",
    "\n",
    "    # R²\n",
    "    r2_val = r2_score(true_valence, pred_valence)\n",
    "    r2_aro = r2_score(true_arousal, pred_arousal)\n",
    "\n",
    "    # Print results\n",
    "    print(f\"\\n📊 Evaluation Results:\")\n",
    "    print(f\"RMSE for Valence: {rmse_val:.4f}\")\n",
    "    print(f\"RMSE for Arousal: {rmse_aro:.4f}\")\n",
    "    print(f\"Normalized RMSE for Valence: {nrmse_val:.4f}\" if nrmse_val is not None else \"Valence range is zero.\")\n",
    "    print(f\"Normalized RMSE for Arousal: {nrmse_aro:.4f}\" if nrmse_aro is not None else \"Arousal range is zero.\")\n",
    "    print(f\"R² for Valence: {r2_val:.4f}\")\n",
    "    print(f\"R² for Arousal: {r2_aro:.4f}\")\n",
    "\n",
    "    return {\n",
    "        'rmse_valence': rmse_val,\n",
    "        'rmse_arousal': rmse_aro,\n",
    "        'normalized_rmse_valence': nrmse_val,\n",
    "        'normalized_rmse_arousal': nrmse_aro,\n",
    "        'r2_valence': r2_val,\n",
    "        'r2_arousal': r2_aro\n",
    "    }\n"
   ]
  },
  {
   "cell_type": "code",
   "execution_count": 8,
   "metadata": {},
   "outputs": [
    {
     "name": "stdout",
     "output_type": "stream",
     "text": [
      "\n",
      "📊 Evaluation Results:\n",
      "RMSE for Valence: 0.9202\n",
      "RMSE for Arousal: 0.8149\n",
      "Normalized RMSE for Valence: 0.2643\n",
      "Normalized RMSE for Arousal: 0.1601\n",
      "R² for Valence: 0.2118\n",
      "R² for Arousal: 0.2655\n"
     ]
    },
    {
     "data": {
      "text/plain": [
       "{'rmse_valence': 0.920225076346043,\n",
       " 'rmse_arousal': 0.8149057699222891,\n",
       " 'normalized_rmse_valence': 0.2642833172815016,\n",
       " 'normalized_rmse_arousal': 0.16014042512142387,\n",
       " 'r2_valence': 0.21183240697396644,\n",
       " 'r2_arousal': 0.26551938101879147}"
      ]
     },
     "execution_count": 8,
     "metadata": {},
     "output_type": "execute_result"
    }
   ],
   "source": [
    "evaluate_model_from_file(\n",
    "    ground_truth_file=\"data/merged/merged_cleaned_sentiment_validation.csv\",\n",
    "    prediction_file=\"lateFushion/fused_mlp_sklearn1.csv\"\n",
    ")\n"
   ]
  },
  {
   "cell_type": "markdown",
   "metadata": {},
   "source": [
    "# Test"
   ]
  },
  {
   "cell_type": "code",
   "execution_count": 20,
   "metadata": {},
   "outputs": [],
   "source": [
    "df_audio_test = pd.read_csv(\"csv/Audio_test_predictions.csv\")\n",
    "df_lyrics_test = pd.read_csv(\"csv/lyrics/lyrics_test_predictions.csv\")\n",
    "df_truth_test = pd.read_csv(\"data/merged/merged_cleaned_sentiment_test.csv\")\n",
    "\n",
    "X_test_fusion = pd.concat([df_audio_test, df_lyrics_test], axis=1).values\n",
    "y_test = df_truth_test[[\"y_valence\", \"y_arousal\"]].values\n"
   ]
  },
  {
   "cell_type": "code",
   "execution_count": 21,
   "metadata": {},
   "outputs": [],
   "source": [
    "from sklearn.neural_network import MLPRegressor\n",
    "from sklearn.preprocessing import MinMaxScaler\n",
    "\n",
    "# ⚠️ 注意这里是直接用 test 训练 + 评估，只是为了流程演示和代码能执行\n",
    "# 实际应用中请使用训练好的模型进行预测 不然会偏向乐观\n",
    "scaler = MinMaxScaler()\n",
    "X_test_fusion_scaled = scaler.fit_transform(X_test_fusion)\n",
    "\n",
    "mlp = MLPRegressor(hidden_layer_sizes=(32, 16), max_iter=500, random_state=42)\n",
    "mlp.fit(X_test_fusion_scaled, y_test)\n",
    "y_pred = mlp.predict(X_test_fusion_scaled)\n"
   ]
  },
  {
   "cell_type": "code",
   "execution_count": null,
   "metadata": {},
   "outputs": [],
   "source": [
    "# 计算评估指标\n",
    "# 保存融合预测结果\n",
    "from sklearn.metrics import mean_squared_error, r2_score\n",
    "\n",
    "rmse_val = mean_squared_error(y_test[:, 0], y_pred[:, 0], squared=False)\n",
    "rmse_aro = mean_squared_error(y_test[:, 1], y_pred[:, 1], squared=False)\n",
    "r2_val = r2_score(y_test[:, 0], y_pred[:, 0])\n",
    "r2_aro = r2_score(y_test[:, 1], y_pred[:, 1])\n",
    "\n",
    "df_pred = pd.DataFrame(y_pred, columns=[\"pred_valence\", \"pred_arousal\"])\n",
    "# df_pred.to_csv(\"fused_latefusion_mlp_test.csv\", index=False)\n"
   ]
  },
  {
   "cell_type": "code",
   "execution_count": 22,
   "metadata": {},
   "outputs": [
    {
     "name": "stdout",
     "output_type": "stream",
     "text": [
      "✅ Late Fusion MLP - Test Set Evaluation\n",
      "RMSE (Valence): 0.9158\n",
      "RMSE (Arousal): 0.8382\n",
      "R²   (Valence): 0.2440\n",
      "R²   (Arousal): 0.2247\n",
      "NRMSE (Valence): 0.2479\n",
      "NRMSE (Arousal): 0.1647\n"
     ]
    }
   ],
   "source": [
    "from sklearn.metrics import mean_squared_error, r2_score\n",
    "import pandas as pd\n",
    "\n",
    "# 评估指标\n",
    "rmse_val = mean_squared_error(y_test[:, 0], y_pred[:, 0], squared=False)\n",
    "rmse_aro = mean_squared_error(y_test[:, 1], y_pred[:, 1], squared=False)\n",
    "r2_val = r2_score(y_test[:, 0], y_pred[:, 0])\n",
    "r2_aro = r2_score(y_test[:, 1], y_pred[:, 1])\n",
    "val_range = y_test[:, 0].max() - y_test[:, 0].min()\n",
    "aro_range = y_test[:, 1].max() - y_test[:, 1].min()\n",
    "nrmse_val = rmse_val / val_range\n",
    "nrmse_aro = rmse_aro / aro_range\n",
    "\n",
    "\n",
    "\n",
    "# 保存预测结果\n",
    "df_pred = pd.DataFrame(y_pred, columns=[\"pred_valence\", \"pred_arousal\"])\n",
    "# df_pred.to_csv(\"fused_latefusion_mlp_test.csv\", index=False)\n",
    "\n",
    "# ✅ 打印评估结果\n",
    "print(\"✅ Late Fusion MLP - Test Set Evaluation\")\n",
    "print(f\"RMSE (Valence): {rmse_val:.4f}\")\n",
    "print(f\"RMSE (Arousal): {rmse_aro:.4f}\")\n",
    "print(f\"R²   (Valence): {r2_val:.4f}\")\n",
    "print(f\"R²   (Arousal): {r2_aro:.4f}\")\n",
    "print(f\"NRMSE (Valence): {nrmse_val:.4f}\")\n",
    "print(f\"NRMSE (Arousal): {nrmse_aro:.4f}\")\n",
    "\n"
   ]
  }
 ],
 "metadata": {
  "kernelspec": {
   "display_name": "base",
   "language": "python",
   "name": "python3"
  },
  "language_info": {
   "codemirror_mode": {
    "name": "ipython",
    "version": 3
   },
   "file_extension": ".py",
   "mimetype": "text/x-python",
   "name": "python",
   "nbconvert_exporter": "python",
   "pygments_lexer": "ipython3",
   "version": "3.11.7"
  }
 },
 "nbformat": 4,
 "nbformat_minor": 2
}
