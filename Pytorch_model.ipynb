{
 "cells": [
  {
   "cell_type": "code",
   "execution_count": 2,
   "metadata": {},
   "outputs": [],
   "source": [
    "# Install the torch package\n",
    "#%pip install torch\n",
    "import numpy as np\n",
    "import torch\n",
    "import torch.nn as nn\n",
    "import torch.optim as optim\n",
    "import pandas as pd\n",
    "import numpy as np\n",
    "from itertools import product\n",
    "from sklearn.metrics import mean_squared_error\n",
    "from sklearn.model_selection import cross_val_score, GridSearchCV\n",
    "from data import merged"
   ]
  },
  {
   "cell_type": "markdown",
   "metadata": {},
   "source": [
    "# Load Data"
   ]
  },
  {
   "cell_type": "code",
   "execution_count": 3,
   "metadata": {},
   "outputs": [],
   "source": [
    "# Load the data and drop VADER columns\n",
    "df_train = pd.read_csv('data/merged/merged_cleaned_sentiment_train.csv').drop(['pos','neg','neu', 'compound'], axis = 1)\n",
    "df_val = pd.read_csv('data/merged/merged_cleaned_sentiment_validation.csv').drop(['pos','neg','neu', 'compound'], axis = 1)\n",
    "df_test = pd.read_csv('data/merged/merged_cleaned_sentiment_test.csv').drop(['pos','neg','neu', 'compound'], axis = 1)"
   ]
  },
  {
   "cell_type": "code",
   "execution_count": 4,
   "metadata": {},
   "outputs": [],
   "source": [
    "#Save audio features\n",
    "# 5 audio features + 2 real target\n",
    "df_train = df_train[['danceability', 'energy', 'instrumentalness', 'valence','mode', 'y_valence', 'y_arousal']]\n",
    "df_val = df_val[['danceability', 'energy', 'instrumentalness', 'valence','mode', 'y_valence', 'y_arousal']]\n",
    "df_test = df_test[['danceability', 'energy', 'instrumentalness', 'valence','mode','y_valence', 'y_arousal']]\n"
   ]
  },
  {
   "cell_type": "code",
   "execution_count": 5,
   "metadata": {},
   "outputs": [],
   "source": [
    "# Remove rows with missing values from the training, validation, and test datasets\n",
    "df_train = df_train.dropna()\n",
    "df_val = df_val.dropna()\n",
    "df_test = df_test.dropna()"
   ]
  },
  {
   "cell_type": "code",
   "execution_count": 6,
   "metadata": {},
   "outputs": [
    {
     "data": {
      "text/plain": [
       "Index(['danceability', 'energy', 'instrumentalness', 'valence', 'mode',\n",
       "       'y_valence', 'y_arousal'],\n",
       "      dtype='object')"
      ]
     },
     "execution_count": 6,
     "metadata": {},
     "output_type": "execute_result"
    }
   ],
   "source": [
    "# output colums\n",
    "df_train.columns"
   ]
  },
  {
   "cell_type": "markdown",
   "metadata": {},
   "source": [
    "## 分割vali，test，train"
   ]
  },
  {
   "cell_type": "code",
   "execution_count": 7,
   "metadata": {},
   "outputs": [],
   "source": [
    "\n",
    "# Training set\n",
    "# X_train: Features for training set, excluding the target variables 'y_valence' and 'y_arousal'\n",
    "X_train = df_train.drop(['y_valence', 'y_arousal'], axis=1).values\n",
    "# y_train_valence: Target variable 'y_valence' for training set\n",
    "y_train_valence = df_train.y_valence.values \n",
    "# y_train_arousal: Target variable 'y_arousal' for training set\n",
    "y_train_arousal = df_train.y_arousal.values\n",
    "    \n",
    "# Validation set\n",
    "# X_val: Features for validation set, excluding the target variables 'y_valence' and 'y_arousal'\n",
    "X_val = df_val.drop(['y_valence', 'y_arousal'], axis=1).values\n",
    "# y_val_valence: Target variable 'y_valence' for validation set\n",
    "y_val_valence = df_val.y_valence.values \n",
    "# y_val_arousal: Target variable 'y_arousal' for validation set\n",
    "y_val_arousal = df_val.y_arousal.values \n",
    "\n",
    "# Test set\n",
    "# X_test: Features for test set, excluding the target variables 'y_valence' and 'y_arousal'\n",
    "X_test = df_test.drop(['y_valence', 'y_arousal'], axis=1).values\n",
    "# y_test_valence: Target variable 'y_valence' for test set\n",
    "y_test_valence = df_test.y_valence.values \n",
    "# y_test_arousal: Target variable 'y_arousal' for test set\n",
    "y_test_arousal = df_test.y_arousal.values"
   ]
  },
  {
   "cell_type": "markdown",
   "metadata": {},
   "source": [
    "## Normalization"
   ]
  },
  {
   "cell_type": "code",
   "execution_count": 12,
   "metadata": {},
   "outputs": [],
   "source": [
    "# 第二步：归一化（💡 训练集 fit，val/test 只 transform）\n",
    "from sklearn.preprocessing import MinMaxScaler\n",
    "\n",
    "scaler = MinMaxScaler()\n",
    "X_train_scaled = scaler.fit_transform(X_train)\n",
    "X_val_scaled   = scaler.transform(X_val)\n",
    "X_test_scaled  = scaler.transform(X_test)"
   ]
  },
  {
   "cell_type": "markdown",
   "metadata": {},
   "source": [
    "## Evaluation"
   ]
  },
  {
   "cell_type": "code",
   "execution_count": 6,
   "metadata": {},
   "outputs": [],
   "source": [
    "import pandas as pd\n",
    "from sklearn.metrics import mean_squared_error, r2_score\n",
    "\n",
    "def evaluate_model(X_val, y_1_validation, y_2_validation, model_predictions_file='predictions.csv'):\n",
    "    \"\"\"Evaluate the trained model using different evaluation criteria, including Normalized RMSE\"\"\"\n",
    "    \n",
    "    # Load the saved predictions from the CSV file\n",
    "    df_predictions = pd.read_csv(model_predictions_file)\n",
    "    \n",
    "    # Get the true values from validation data\n",
    "    true_valence = y_1_validation\n",
    "    true_arousal = y_2_validation\n",
    "\n",
    "    # Ensure predictions are in the original range (if necessary)\n",
    "    # If predictions are standardized, use the inverse_transform of your scaler before proceeding.\n",
    "    # Example: df_predictions['pred_valence'] = scaler.inverse_transform(df_predictions[['pred_valence']])\n",
    "\n",
    "    # Compute RMSE\n",
    "    rmse_valence = mean_squared_error(true_valence, df_predictions['pred_valence'], squared=False)\n",
    "    rmse_arousal = mean_squared_error(true_arousal, df_predictions['pred_arousal'], squared=False)\n",
    "\n",
    "    # Compute Normalized RMSE\n",
    "    valence_range = max(true_valence) - min(true_valence)\n",
    "    arousal_range = max(true_arousal) - min(true_arousal)\n",
    "\n",
    "    normalized_rmse_valence = rmse_valence / valence_range if valence_range > 0 else None\n",
    "    normalized_rmse_arousal = rmse_arousal / arousal_range if arousal_range > 0 else None\n",
    "\n",
    "    # Compute R²\n",
    "    r2_valence = r2_score(true_valence, df_predictions['pred_valence'])\n",
    "    r2_arousal = r2_score(true_arousal, df_predictions['pred_arousal'])\n",
    "\n",
    "    # Print evaluation results\n",
    "    print(f\"RMSE for Valence: {rmse_valence:.4f}\")\n",
    "    print(f\"RMSE for Arousal: {rmse_arousal:.4f}\")\n",
    "    print(f\"Normalized RMSE for Valence: {normalized_rmse_valence:.4f}\" if normalized_rmse_valence is not None else \"Valence range is zero, cannot compute NRMSE.\")\n",
    "    print(f\"Normalized RMSE for Arousal: {normalized_rmse_arousal:.4f}\" if normalized_rmse_arousal is not None else \"Arousal range is zero, cannot compute NRMSE.\")\n",
    "    print(f\"R² for Valence: {r2_valence:.4f}\")\n",
    "    print(f\"R² for Arousal: {r2_arousal:.4f}\")\n",
    "    \n",
    "    # Return evaluation results as a dictionary\n",
    "    eval_results = {\n",
    "        'rmse_valence': rmse_valence,\n",
    "        'rmse_arousal': rmse_arousal,\n",
    "        'normalized_rmse_valence': normalized_rmse_valence,\n",
    "        'normalized_rmse_arousal': normalized_rmse_arousal,\n",
    "        'r2_valence': r2_valence,\n",
    "        'r2_arousal': r2_arousal\n",
    "    }\n",
    "\n",
    "    return eval_results\n"
   ]
  },
  {
   "cell_type": "markdown",
   "metadata": {},
   "source": [
    "# Try"
   ]
  },
  {
   "cell_type": "code",
   "execution_count": 4,
   "metadata": {},
   "outputs": [
    {
     "name": "stdout",
     "output_type": "stream",
     "text": [
      "Epoch 50, Loss: 1.0246\n",
      "Epoch 100, Loss: 1.0029\n",
      "Epoch 150, Loss: 1.0001\n",
      "Epoch 200, Loss: 0.9997\n",
      "Epoch 250, Loss: 0.9996\n",
      "Epoch 300, Loss: 0.9996\n"
     ]
    },
    {
     "data": {
      "image/png": "[encoded data removed]",
      "text/plain": [
       "<Figure size 800x500 with 1 Axes>"
      ]
     },
     "metadata": {},
     "output_type": "display_data"
    },
    {
     "name": "stdout",
     "output_type": "stream",
     "text": [
      "\n",
      "Learned function: y = 1.95x + 0.93\n"
     ]
    }
   ],
   "source": [
    "import torch\n",
    "import torch.nn as nn\n",
    "import torch.optim as optim\n",
    "import matplotlib.pyplot as plt\n",
    "import numpy as np\n",
    "\n",
    "# 1. 生成数据：y = 2x + 1 + 一点点噪声\n",
    "X = np.linspace(-5, 5, 100)\n",
    "y = 2 * X + 1 + np.random.normal(0, 1, size=X.shape)  # 加一点噪声\n",
    "\n",
    "# 转成 tensor\n",
    "X_tensor = torch.tensor(X, dtype=torch.float32).unsqueeze(1)  # shape (100, 1)\n",
    "y_tensor = torch.tensor(y, dtype=torch.float32).unsqueeze(1)  # shape (100, 1)\n",
    "\n",
    "# 2. 定义模型：输入1维，输出1维\n",
    "model = nn.Linear(in_features=1, out_features=1)\n",
    "\n",
    "# 3. 定义损失函数 和 优化器\n",
    "criterion = nn.MSELoss()\n",
    "optimizer = optim.SGD(model.parameters(), lr=0.01)\n",
    "\n",
    "# 4. 训练循环\n",
    "for epoch in range(300):\n",
    "    model.train()\n",
    "\n",
    "    pred = model(X_tensor)\n",
    "    loss = criterion(pred, y_tensor)\n",
    "\n",
    "    optimizer.zero_grad()\n",
    "    loss.backward()\n",
    "    optimizer.step()\n",
    "\n",
    "    if (epoch + 1) % 50 == 0:\n",
    "        print(f\"Epoch {epoch+1}, Loss: {loss.item():.4f}\")\n",
    "\n",
    "# 5. 可视化结果\n",
    "model.eval()\n",
    "with torch.no_grad():\n",
    "    predicted = model(X_tensor).squeeze().numpy()\n",
    "\n",
    "plt.figure(figsize=(8, 5))\n",
    "plt.scatter(X, y, label='Original data', alpha=0.5)\n",
    "plt.plot(X, predicted, color='red', label='Fitted line')\n",
    "plt.title(\"Linear Regression with PyTorch\")\n",
    "plt.xlabel(\"X\")\n",
    "plt.ylabel(\"y\")\n",
    "plt.legend()\n",
    "plt.grid(True)\n",
    "plt.show()\n",
    "\n",
    "# 查看学到的参数\n",
    "w = model.weight.item()\n",
    "b = model.bias.item()\n",
    "print(f\"\\nLearned function: y = {w:.2f}x + {b:.2f}\")\n"
   ]
  },
  {
   "cell_type": "markdown",
   "metadata": {},
   "source": [
    "# Model LR"
   ]
  },
  {
   "cell_type": "code",
   "execution_count": 104,
   "metadata": {},
   "outputs": [],
   "source": [
    "def train_single_linear(X_train, y_train, X_val, fit_intercept=True, positive=False, epochs=500, lr=0.01):\n",
    "    n_samples, n_features = X_train.shape\n",
    "\n",
    "    # 定义模型\n",
    "    model = nn.Linear(n_features, 1, bias=fit_intercept)\n",
    "    \n",
    "    # 初始化正值约束：将初始权重设为正\n",
    "    if positive:\n",
    "        with torch.no_grad():\n",
    "            model.weight.data = torch.abs(model.weight.data)\n",
    "            if fit_intercept:\n",
    "                model.bias.data = torch.abs(model.bias.data)\n",
    "\n",
    "    # 定义损失函数和优化器\n",
    "    criterion = nn.MSELoss()\n",
    "    optimizer = optim.SGD(model.parameters(), lr=lr)\n",
    "\n",
    "    X_tensor = torch.tensor(X_train, dtype=torch.float32)\n",
    "    y_tensor = torch.tensor(y_train, dtype=torch.float32)\n",
    "\n",
    "    # 训练\n",
    "    for epoch in range(epochs):\n",
    "        model.train()\n",
    "        optimizer.zero_grad()\n",
    "        pred = model(X_tensor).squeeze()\n",
    "        loss = criterion(pred, y_tensor)\n",
    "        loss.backward()\n",
    "        optimizer.step()\n",
    "\n",
    "        # 正值约束：手动把权重截断为正数\n",
    "        if positive:\n",
    "            with torch.no_grad():\n",
    "                model.weight.data = torch.clamp(model.weight.data, min=0.0)\n",
    "                if fit_intercept:\n",
    "                    model.bias.data = torch.clamp(model.bias.data, min=0.0)\n",
    "\n",
    "    # 用验证集评估\n",
    "    model.eval()\n",
    "    with torch.no_grad():\n",
    "        X_val_tensor = torch.tensor(X_val, dtype=torch.float32)\n",
    "        pred_val = model(X_val_tensor).squeeze().numpy()\n",
    "    return model, pred_val"
   ]
  },
  {
   "cell_type": "code",
   "execution_count": 105,
   "metadata": {},
   "outputs": [],
   "source": [
    "def train_regression_torch(X, y_1, y_2, X_val, param_grid=None):\n",
    "    if param_grid is None:\n",
    "        param_grid = {'fit_intercept': [True, False], 'positive': [True, False]}\n",
    "    \n",
    "    best_score_val = float('inf')\n",
    "    best_score_arou = float('inf')\n",
    "    best_model_val = None\n",
    "    best_model_arou = None\n",
    "    best_params_val = {}\n",
    "    best_params_arou = {}\n",
    "    \n",
    "\n",
    "\n",
    "    # 遍历所有参数组合\n",
    "    for fit_intercept, positive in product(param_grid['fit_intercept'], param_grid['positive']):\n",
    "        print(f\"🔍 Trying fit_intercept={fit_intercept}, positive={positive}...\")\n",
    "\n",
    "        # 训练并验证 Valence 模型\n",
    "        model_val, pred_val = train_single_linear(X, y_1, X_val, fit_intercept, positive)\n",
    "        score_val = mean_squared_error(y_1, model_val(torch.tensor(X, dtype=torch.float32)).squeeze().detach().numpy())\n",
    "\n",
    "        if score_val < best_score_val:\n",
    "            best_score_val = score_val\n",
    "            best_model_val = model_val\n",
    "            \n",
    "\n",
    "            best_params_val = {'fit_intercept': fit_intercept, 'positive': positive}\n",
    "            \n",
    "        \n",
    "        # 训练并验证 Arousal 模型\n",
    "        model_arou, pred_arou = train_single_linear(X, y_2, X_val, fit_intercept, positive)\n",
    "        score_arou = mean_squared_error(y_2, model_arou(torch.tensor(X, dtype=torch.float32)).squeeze().detach().numpy())\n",
    "\n",
    "        if score_arou < best_score_arou:\n",
    "            best_score_arou = score_arou\n",
    "            best_model_arou = model_arou\n",
    "            best_params_arou = {'fit_intercept': fit_intercept, 'positive': positive}\n",
    "\n",
    "    print()\n",
    "    print(f\"✅ Best parameters for Valence (Train MSE = {best_score_val:.4f}): {best_params_val}\")\n",
    "    print(f\"✅ Best parameters for Arousal (Train MSE = {best_score_arou:.4f}): {best_params_arou}\")\n",
    "\n",
    "    # 最终预测并保存\n",
    "    best_model_val.eval()\n",
    "    best_model_arou.eval()\n",
    "    with torch.no_grad():\n",
    "        X_val_tensor = torch.tensor(X_val, dtype=torch.float32)\n",
    "        predictions_val = best_model_val(X_val_tensor).squeeze().numpy()\n",
    "        predictions_arou = best_model_arou(X_val_tensor).squeeze().numpy()\n",
    "\n",
    "    df_predictions = pd.DataFrame({\n",
    "        'pred_valence': predictions_val,\n",
    "        'pred_arousal': predictions_arou\n",
    "    })\n",
    "    df_predictions.to_csv('csv/lr_prediction_torch1.csv', index=False)\n",
    "\n",
    "    print(\"🎉 PyTorch 线性回归训练完成并已保存预测！\")\n",
    "    return best_model_val, best_model_arou,best_params_val, best_params_arou"
   ]
  },
  {
   "cell_type": "markdown",
   "metadata": {},
   "source": [
    "## Train model"
   ]
  },
  {
   "cell_type": "code",
   "execution_count": 109,
   "metadata": {},
   "outputs": [
    {
     "name": "stdout",
     "output_type": "stream",
     "text": [
      "🔍 Trying fit_intercept=True, positive=True...\n",
      "🔍 Trying fit_intercept=True, positive=False...\n",
      "🔍 Trying fit_intercept=False, positive=True...\n",
      "🔍 Trying fit_intercept=False, positive=False...\n",
      "\n",
      "✅ Best parameters for Valence (Train MSE = 1.0469): {'fit_intercept': True, 'positive': False}\n",
      "✅ Best parameters for Arousal (Train MSE = 0.8429): {'fit_intercept': True, 'positive': False}\n",
      "🎉 PyTorch 线性回归训练完成并已保存预测！\n"
     ]
    }
   ],
   "source": [
    "# 第三步：调用训练函数（注意传入的是“scaled”的数据）\n",
    "best_model_val, best_model_arou,best_params_val,best_params_arou= train_regression_torch(\n",
    "    X_train_scaled, y_train_valence,\n",
    "    y_train_arousal, X_val_scaled\n",
    ")"
   ]
  },
  {
   "cell_type": "code",
   "execution_count": null,
   "metadata": {},
   "outputs": [
    {
     "name": "stdout",
     "output_type": "stream",
     "text": [
      "🔍 Trying fit_intercept=True, positive=True...\n",
      "🔍 Trying fit_intercept=True, positive=False...\n",
      "🔍 Trying fit_intercept=False, positive=True...\n",
      "🔍 Trying fit_intercept=False, positive=False...\n",
      "\n",
      "✅ Best parameters for Valence (Train MSE = 1.0569): {'fit_intercept': True, 'positive': False}\n",
      "✅ Best parameters for Arousal (Train MSE = 0.8477): {'fit_intercept': True, 'positive': False}\n",
      "🎉 PyTorch 线性回归训练完成并已保存预测！\n"
     ]
    }
   ],
   "source": [
    "best_model_val, best_model_arou = train_regression_torch(X_train, y_train_valence, y_train_arousal, X_val)\n"
   ]
  },
  {
   "cell_type": "markdown",
   "metadata": {},
   "source": [
    "## RMSE+R2"
   ]
  },
  {
   "cell_type": "code",
   "execution_count": 115,
   "metadata": {},
   "outputs": [
    {
     "name": "stdout",
     "output_type": "stream",
     "text": [
      "RMSE for Valence: 0.9857\n",
      "RMSE for Arousal: 0.8942\n",
      "Normalized RMSE for Valence: 0.2831\n",
      "Normalized RMSE for Arousal: 0.1757\n",
      "R² for Valence: 0.0957\n",
      "R² for Arousal: 0.1157\n"
     ]
    }
   ],
   "source": [
    "results_scaled = evaluate_model(\n",
    "    X_val=X_val,\n",
    "    y_1_validation=y_val_valence,\n",
    "    y_2_validation=y_val_arousal,\n",
    "    model_predictions_file='csv/lr_prediction_torch1.csv'\n",
    ")\n"
   ]
  },
  {
   "cell_type": "markdown",
   "metadata": {},
   "source": [
    "## Test"
   ]
  },
  {
   "cell_type": "markdown",
   "metadata": {},
   "source": [
    "## 新的"
   ]
  },
  {
   "cell_type": "code",
   "execution_count": null,
   "metadata": {},
   "outputs": [],
   "source": [
    "def train_regression_torch(X, y_1, y_2, X_val, param_grid=None):\n",
    "    if param_grid is None:\n",
    "        param_grid = {'fit_intercept': [True, False], 'positive': [True, False]}\n",
    "    \n",
    "    best_score_val = float('inf')\n",
    "    best_score_arou = float('inf')\n",
    "    best_model_val = None\n",
    "    best_model_arou = None\n",
    "    best_params_val = {}\n",
    "    best_params_arou = {}\n",
    "    \n",
    "\n",
    "\n",
    "    # 遍历所有参数组合\n",
    "    for fit_intercept, positive in product(param_grid['fit_intercept'], param_grid['positive']):\n",
    "        print(f\"🔍 Trying fit_intercept={fit_intercept}, positive={positive}...\")\n",
    "\n",
    "        # 训练并验证 Valence 模型\n",
    "        model_val, pred_val = train_single_linear(X, y_1, X_val, fit_intercept, positive)\n",
    "        score_val = mean_squared_error(y_1, model_val(torch.tensor(X, dtype=torch.float32)).squeeze().detach().numpy())\n",
    "\n",
    "        if score_val < best_score_val:\n",
    "            best_score_val = score_val\n",
    "            best_model_val = model_val\n",
    "            \n",
    "\n",
    "            best_params_val = {'fit_intercept': fit_intercept, 'positive': positive}\n",
    "            \n",
    "        \n",
    "        # 训练并验证 Arousal 模型\n",
    "        model_arou, pred_arou = train_single_linear(X, y_2, X_val, fit_intercept, positive)\n",
    "        score_arou = mean_squared_error(y_2, model_arou(torch.tensor(X, dtype=torch.float32)).squeeze().detach().numpy())\n",
    "\n",
    "        if score_arou < best_score_arou:\n",
    "            best_score_arou = score_arou\n",
    "            best_model_arou = model_arou\n",
    "            best_params_arou = {'fit_intercept': fit_intercept, 'positive': positive}\n",
    "\n",
    "    print()\n",
    "    print(f\"✅ Best parameters for Valence (Train MSE = {best_score_val:.4f}): {best_params_val}\")\n",
    "    print(f\"✅ Best parameters for Arousal (Train MSE = {best_score_arou:.4f}): {best_params_arou}\")\n",
    "\n",
    "    # 最终预测并保存\n",
    "    best_model_val.eval()\n",
    "    best_model_arou.eval()\n",
    "    with torch.no_grad():\n",
    "        X_val_tensor = torch.tensor(X_val, dtype=torch.float32)\n",
    "        predictions_val = best_model_val(X_val_tensor).squeeze().numpy()\n",
    "        predictions_arou = best_model_arou(X_val_tensor).squeeze().numpy()\n",
    "\n",
    "    df_predictions = pd.DataFrame({\n",
    "        'pred_valence': predictions_val,\n",
    "        'pred_arousal': predictions_arou\n",
    "    })\n",
    "    df_predictions.to_csv('csv/lr_prediction_torch1.csv', index=False)\n",
    "\n",
    "    print(\"🎉 PyTorch 线性回归训练完成并已保存预测！\")\n",
    "    return best_model_val, best_model_arou"
   ]
  },
  {
   "cell_type": "code",
   "execution_count": 110,
   "metadata": {},
   "outputs": [
    {
     "name": "stdout",
     "output_type": "stream",
     "text": [
      "🔍 Trying fit_intercept=True, positive=True...\n",
      "🔍 Trying fit_intercept=True, positive=False...\n",
      "🔍 Trying fit_intercept=False, positive=True...\n",
      "🔍 Trying fit_intercept=False, positive=False...\n",
      "\n",
      "✅ Best parameters for Valence (Train MSE = 1.0212): {'fit_intercept': True, 'positive': False}\n",
      "✅ Best parameters for Arousal (Train MSE = 0.8355): {'fit_intercept': True, 'positive': False}\n",
      "🎉 PyTorch 线性回归训练完成并已保存预测！\n",
      "📊 Test Set Evaluation (PyTorch LR)\n",
      "RMSE (Valence): 0.9865\n",
      "RMSE (Arousal): 0.8976\n",
      "R² (Valence): 0.1227\n",
      "R² (Arousal): 0.1111\n",
      "Normalized RMSE (Valence): 0.2670\n",
      "Normalized RMSE (Arousal): 0.1764\n"
     ]
    }
   ],
   "source": [
    "# 假设你训练完了\n",
    "best_model_val, best_model_arou,best_params_val, best_params_arou= train_regression_torch(X_train, y_train_valence, y_train_arousal, X_val)\n",
    "\n",
    "# 用训练集重新训练最终模型（PyTorch 版本）\n",
    "X_train_scaled = scaler.fit_transform(X_train)\n",
    "X_test_scaled = scaler.transform(X_test)\n",
    "\n",
    "model_val_final, _ = train_single_linear(X_train_scaled, y_train_valence, X_val=X_test_scaled, fit_intercept=best_params_val['fit_intercept'],\n",
    "    positive=best_params_val['positive'])\n",
    "model_arou_final, _ = train_single_linear(X_train_scaled, y_train_arousal, X_val=X_test_scaled, fit_intercept=best_params_val['fit_intercept'],\n",
    "    positive=best_params_val['positive'])\n",
    "# 测试集预测\n",
    "X_test_tensor = torch.tensor(X_test_scaled, dtype=torch.float32)\n",
    "pred_val = model_val_final(X_test_tensor).detach().numpy().squeeze()\n",
    "pred_arou = model_arou_final(X_test_tensor).detach().numpy().squeeze()\n",
    "\n",
    "# 计算评估指标\n",
    "from sklearn.metrics import mean_squared_error, r2_score\n",
    "\n",
    "rmse_val = mean_squared_error(y_test_valence, pred_val, squared=False)\n",
    "rmse_arou = mean_squared_error(y_test_arousal, pred_arou, squared=False)\n",
    "\n",
    "r2_val = r2_score(y_test_valence, pred_val)\n",
    "r2_arou = r2_score(y_test_arousal, pred_arou)\n",
    "\n",
    "# Normalized RMSE\n",
    "val_range = np.max(y_test_valence) - np.min(y_test_valence)\n",
    "arou_range = np.max(y_test_arousal) - np.min(y_test_arousal)\n",
    "nrmse_val = rmse_val / val_range\n",
    "nrmse_arou = rmse_arou / arou_range\n",
    "\n",
    "# 打印结果\n",
    "print(\"📊 Test Set Evaluation (PyTorch LR)\")\n",
    "print(f\"RMSE (Valence): {rmse_val:.4f}\")\n",
    "print(f\"RMSE (Arousal): {rmse_arou:.4f}\")\n",
    "print(f\"R² (Valence): {r2_val:.4f}\")\n",
    "print(f\"R² (Arousal): {r2_arou:.4f}\")\n",
    "print(f\"Normalized RMSE (Valence): {nrmse_val:.4f}\")\n",
    "print(f\"Normalized RMSE (Arousal): {nrmse_arou:.4f}\")\n"
   ]
  },
  {
   "cell_type": "markdown",
   "metadata": {},
   "source": [
    "##旧的"
   ]
  },
  {
   "cell_type": "code",
   "execution_count": 112,
   "metadata": {},
   "outputs": [
    {
     "name": "stdout",
     "output_type": "stream",
     "text": [
      "📊 Test RMSE (Valence): 0.9881\n",
      "📊 Test RMSE (Arousal): 0.9017\n",
      "📈 Test R² (Valence): 0.1199\n",
      "📈 Test R² (Arousal): 0.1030\n",
      "🧮 Normalized RMSE (Valence): 0.2674\n",
      "🧮 Normalized RMSE (Arousal): 0.1772\n"
     ]
    }
   ],
   "source": [
    "# 1. Normalize the test set\n",
    "X_test_scaled = scaler.transform(X_test)\n",
    "X_test_tensor = torch.tensor(X_test_scaled, dtype=torch.float32)\n",
    "\n",
    "# 2. Model predictions\n",
    "best_model_val.eval()\n",
    "best_model_arou.eval()\n",
    "with torch.no_grad():\n",
    "    pred_val_test = best_model_val(X_test_tensor).squeeze().numpy()\n",
    "    pred_arou_test = best_model_arou(X_test_tensor).squeeze().numpy()\n",
    "\n",
    "# 3. Compute evaluation metrics\n",
    "rmse_val = mean_squared_error(y_test_valence, pred_val_test, squared=False)\n",
    "rmse_arou = mean_squared_error(y_test_arousal, pred_arou_test, squared=False)\n",
    "r2_val = r2_score(y_test_valence, pred_val_test)\n",
    "r2_arou = r2_score(y_test_arousal, pred_arou_test)\n",
    "\n",
    "# Compute label ranges (valence and arousal)\n",
    "valence_range = max(y_test_valence) - min(y_test_valence)\n",
    "arousal_range = max(y_test_arousal) - min(y_test_arousal)\n",
    "\n",
    "# Compute Normalized RMSE\n",
    "nrmse_val = rmse_val / valence_range if valence_range > 0 else None\n",
    "nrmse_arou = rmse_arou / arousal_range if arousal_range > 0 else None\n",
    "\n",
    "# 4. Print results\n",
    "print(f\"📊 Test RMSE (Valence): {rmse_val:.4f}\")\n",
    "print(f\"📊 Test RMSE (Arousal): {rmse_arou:.4f}\")\n",
    "print(f\"📈 Test R² (Valence): {r2_val:.4f}\")\n",
    "print(f\"📈 Test R² (Arousal): {r2_arou:.4f}\")\n",
    "print(f\"🧮 Normalized RMSE (Valence): {nrmse_val:.4f}\")\n",
    "print(f\"🧮 Normalized RMSE (Arousal): {nrmse_arou:.4f}\")"
   ]
  },
  {
   "cell_type": "code",
   "execution_count": null,
   "metadata": {},
   "outputs": [],
   "source": []
  },
  {
   "cell_type": "markdown",
   "metadata": {},
   "source": [
    "# Model MLP"
   ]
  },
  {
   "cell_type": "markdown",
   "metadata": {},
   "source": [
    "## define model"
   ]
  },
  {
   "cell_type": "code",
   "execution_count": 5,
   "metadata": {},
   "outputs": [
    {
     "ename": "NameError",
     "evalue": "name 'nn' is not defined",
     "output_type": "error",
     "traceback": [
      "\u001b[1;31m---------------------------------------------------------------------------\u001b[0m",
      "\u001b[1;31mNameError\u001b[0m                                 Traceback (most recent call last)",
      "Cell \u001b[1;32mIn[5], line 2\u001b[0m\n\u001b[0;32m      1\u001b[0m \u001b[38;5;66;03m# Define a generic MLP model\u001b[39;00m\n\u001b[1;32m----> 2\u001b[0m \u001b[38;5;28;01mclass\u001b[39;00m \u001b[38;5;21;01mMLP\u001b[39;00m(nn\u001b[38;5;241m.\u001b[39mModule):\n\u001b[0;32m      3\u001b[0m     \u001b[38;5;28;01mdef\u001b[39;00m \u001b[38;5;21m__init__\u001b[39m(\u001b[38;5;28mself\u001b[39m, input_size, hidden_layer_sizes):\n\u001b[0;32m      4\u001b[0m         \u001b[38;5;28msuper\u001b[39m(MLP, \u001b[38;5;28mself\u001b[39m)\u001b[38;5;241m.\u001b[39m\u001b[38;5;21m__init__\u001b[39m()\n",
      "\u001b[1;31mNameError\u001b[0m: name 'nn' is not defined"
     ]
    }
   ],
   "source": [
    "# Define a generic MLP model\n",
    "class MLP(nn.Module):\n",
    "    def __init__(self, input_size, hidden_layer_sizes):\n",
    "        super(MLP, self).__init__()\n",
    "        layers = []\n",
    "        in_features = input_size\n",
    "        for h in hidden_layer_sizes:\n",
    "            layers.append(nn.Linear(in_features, h))\n",
    "            layers.append(nn.ReLU())\n",
    "            in_features = h\n",
    "        layers.append(nn.Linear(in_features, 1))\n",
    "        self.network = nn.Sequential(*layers)\n",
    "\n",
    "    def forward(self, x):\n",
    "        return self.network(x)"
   ]
  },
  {
   "cell_type": "code",
   "execution_count": 4,
   "metadata": {},
   "outputs": [],
   "source": [
    "def train_mlp_torch(X, y_1, y_2, X_val, param_grid=None):\n",
    "    scaler = MinMaxScaler()\n",
    "    X_scaled = scaler.fit_transform(X)\n",
    "    X_val_scaled = scaler.transform(X_val)\n",
    "\n",
    "    if param_grid is None:\n",
    "        param_grid = {\n",
    "            'hidden_layer_sizes': [(5,), (10,), (15,), (5,5), (10,10), (15,15)],\n",
    "            'max_iter': [500, 1000]\n",
    "        }\n",
    "\n",
    "    best_val_model = None\n",
    "    best_arou_model = None\n",
    "    best_val_score = float('inf')\n",
    "    best_arou_score = float('inf')\n",
    "    best_hidden_layers = None\n",
    "    best_max_iter = None\n",
    "\n",
    "    for hidden_layers, max_iter in product(param_grid['hidden_layer_sizes'], param_grid['max_iter']):\n",
    "        print(f\"🔍 Trying config: hidden_layers={hidden_layers}, max_iter={max_iter}\")\n",
    "\n",
    "        model_val = train_single_mlp(X_scaled, y_1, hidden_layers, max_iter)\n",
    "        preds_val = model_val(torch.tensor(X_scaled, dtype=torch.float32)).detach().numpy().squeeze()\n",
    "        mse_val = mean_squared_error(y_1, preds_val)\n",
    "\n",
    "        if mse_val < best_val_score:\n",
    "            best_val_score = mse_val\n",
    "            best_val_model = model_val\n",
    "            best_hidden_layers = hidden_layers\n",
    "            best_max_iter = max_iter\n",
    "\n",
    "        model_arou = train_single_mlp(X_scaled, y_2, hidden_layers, max_iter)\n",
    "        preds_arou = model_arou(torch.tensor(X_scaled, dtype=torch.float32)).detach().numpy().squeeze()\n",
    "        mse_arou = mean_squared_error(y_2, preds_arou)\n",
    "\n",
    "        if mse_arou < best_arou_score:\n",
    "            best_arou_score = mse_arou\n",
    "            best_arou_model = model_arou\n",
    "\n",
    "    # 用最优模型在验证集上预测并保存为 CSV（仅验证集）\n",
    "    best_val_model.eval()\n",
    "    best_arou_model.eval()\n",
    "    with torch.no_grad():\n",
    "        X_val_tensor = torch.tensor(X_val_scaled, dtype=torch.float32)\n",
    "        predictions_val = best_val_model(X_val_tensor).squeeze().numpy()\n",
    "        predictions_arou = best_arou_model(X_val_tensor).squeeze().numpy()\n",
    "\n",
    "    df_predictions = pd.DataFrame({\n",
    "        'pred_valence': predictions_val,\n",
    "        'pred_arousal': predictions_arou\n",
    "    })\n",
    "    df_predictions.to_csv('csv/AUdio_predictions_mlp_torch3.csv', index=False)\n",
    "\n",
    "    print(\"✅ PyTorch MLP training completed and validation predictions saved.\")\n",
    "    return best_val_model, best_arou_model, scaler, best_hidden_layers, best_max_iter\n"
   ]
  },
  {
   "cell_type": "code",
   "execution_count": 3,
   "metadata": {},
   "outputs": [],
   "source": [
    "# Training function for one model\n",
    "def train_single_mlp(X_train, y_train, hidden_layers, max_iter):\n",
    "    model = MLP(X_train.shape[1], hidden_layers)\n",
    "    criterion = nn.MSELoss()\n",
    "    optimizer = optim.Adam(model.parameters(), lr=0.001)\n",
    "    X_tensor = torch.tensor(X_train, dtype=torch.float32)\n",
    "    y_tensor = torch.tensor(y_train, dtype=torch.float32).view(-1, 1)\n",
    "\n",
    "    model.train()\n",
    "    for epoch in range(max_iter):\n",
    "        optimizer.zero_grad()\n",
    "        outputs = model(X_tensor)\n",
    "        loss = criterion(outputs, y_tensor)\n",
    "        loss.backward()\n",
    "        optimizer.step()\n",
    "\n",
    "    return model\n"
   ]
  },
  {
   "cell_type": "code",
   "execution_count": 2,
   "metadata": {},
   "outputs": [],
   "source": [
    "def train_mlp_torch(X, y_1, y_2, X_val, param_grid=None):\n",
    "    scaler = MinMaxScaler()\n",
    "    X_scaled = scaler.fit_transform(X)\n",
    "    X_val_scaled = scaler.transform(X_val)\n",
    "\n",
    "    if param_grid is None:\n",
    "        param_grid = {\n",
    "            'hidden_layer_sizes': [(5,), (10,), (15,), (5,5), (10,10), (15,15), (5,5,5), (10,10,10), (15,15,15)],\n",
    "            'max_iter': [500, 1000, 2000, 2500]\n",
    "        }\n",
    "\n",
    "    best_val_model = None\n",
    "    best_arou_model = None\n",
    "    best_val_score = float('inf')\n",
    "    best_arou_score = float('inf')\n",
    "\n",
    "    for hidden_layers, max_iter in product(param_grid['hidden_layer_sizes'], param_grid['max_iter']):\n",
    "        print(f\"🔍 Trying config: hidden_layers={hidden_layers}, max_iter={max_iter}\")\n",
    "\n",
    "        # Train valence model\n",
    "        model_val = train_single_mlp(X_scaled, y_1, hidden_layers, max_iter)\n",
    "        preds_val = model_val(torch.tensor(X_scaled, dtype=torch.float32)).detach().numpy().squeeze()\n",
    "        mse_val = mean_squared_error(y_1, preds_val)\n",
    "        if mse_val < best_val_score:\n",
    "            best_val_score = mse_val\n",
    "            best_val_model = model_val\n",
    "           \n",
    "\n",
    "        # Train arousal model\n",
    "        model_arou = train_single_mlp(X_scaled, y_2, hidden_layers, max_iter)\n",
    "        preds_arou = model_arou(torch.tensor(X_scaled, dtype=torch.float32)).detach().numpy().squeeze()\n",
    "        mse_arou = mean_squared_error(y_2, preds_arou)\n",
    "        if mse_arou < best_arou_score:\n",
    "            best_arou_score = mse_arou\n",
    "            best_arou_model = model_arou\n",
    "\n",
    "    # Predict on validation set\n",
    "    best_val_model.eval()\n",
    "    best_arou_model.eval()\n",
    "    with torch.no_grad():\n",
    "        X_val_tensor = torch.tensor(X_val_scaled, dtype=torch.float32)\n",
    "        predictions_val = best_val_model(X_val_tensor).squeeze().numpy()\n",
    "        predictions_arou = best_arou_model(X_val_tensor).squeeze().numpy()\n",
    "\n",
    "    df_predictions = pd.DataFrame({\n",
    "        'pred_valence': predictions_val,\n",
    "        'pred_arousal': predictions_arou\n",
    "    })\n",
    "    df_predictions.to_csv('csv/AUdio_predictions_mlp_torch4.csv', index=False)\n",
    "\n",
    "    print(\"✅ PyTorch MLP training completed and predictions saved!\")\n",
    "    return best_val_model, best_arou_model, scaler"
   ]
  },
  {
   "cell_type": "markdown",
   "metadata": {},
   "source": [
    "## Train"
   ]
  },
  {
   "cell_type": "code",
   "execution_count": 81,
   "metadata": {},
   "outputs": [
    {
     "name": "stdout",
     "output_type": "stream",
     "text": [
      "🔍 Trying config: hidden_layers=(5,), max_iter=500\n"
     ]
    },
    {
     "ename": "KeyboardInterrupt",
     "evalue": "",
     "output_type": "error",
     "traceback": [
      "\u001b[1;31m---------------------------------------------------------------------------\u001b[0m",
      "\u001b[1;31mKeyboardInterrupt\u001b[0m                         Traceback (most recent call last)",
      "Cell \u001b[1;32mIn[81], line 1\u001b[0m\n\u001b[1;32m----> 1\u001b[0m best_val_model, best_arou_model, scaler, best_layers, best_iter \u001b[38;5;241m=\u001b[39m train_mlp_torch(\n\u001b[0;32m      2\u001b[0m     X_train, y_train_valence, y_train_arousal, X_val\n\u001b[0;32m      3\u001b[0m )\n",
      "Cell \u001b[1;32mIn[80], line 22\u001b[0m, in \u001b[0;36mtrain_mlp_torch\u001b[1;34m(X, y_1, y_2, X_val, param_grid)\u001b[0m\n\u001b[0;32m     19\u001b[0m \u001b[38;5;28;01mfor\u001b[39;00m hidden_layers, max_iter \u001b[38;5;129;01min\u001b[39;00m product(param_grid[\u001b[38;5;124m'\u001b[39m\u001b[38;5;124mhidden_layer_sizes\u001b[39m\u001b[38;5;124m'\u001b[39m], param_grid[\u001b[38;5;124m'\u001b[39m\u001b[38;5;124mmax_iter\u001b[39m\u001b[38;5;124m'\u001b[39m]):\n\u001b[0;32m     20\u001b[0m     \u001b[38;5;28mprint\u001b[39m(\u001b[38;5;124mf\u001b[39m\u001b[38;5;124m\"\u001b[39m\u001b[38;5;124m🔍 Trying config: hidden_layers=\u001b[39m\u001b[38;5;132;01m{\u001b[39;00mhidden_layers\u001b[38;5;132;01m}\u001b[39;00m\u001b[38;5;124m, max_iter=\u001b[39m\u001b[38;5;132;01m{\u001b[39;00mmax_iter\u001b[38;5;132;01m}\u001b[39;00m\u001b[38;5;124m\"\u001b[39m)\n\u001b[1;32m---> 22\u001b[0m     model_val \u001b[38;5;241m=\u001b[39m train_single_mlp(X_scaled, y_1, hidden_layers, max_iter)\n\u001b[0;32m     23\u001b[0m     preds_val \u001b[38;5;241m=\u001b[39m model_val(torch\u001b[38;5;241m.\u001b[39mtensor(X_scaled, dtype\u001b[38;5;241m=\u001b[39mtorch\u001b[38;5;241m.\u001b[39mfloat32))\u001b[38;5;241m.\u001b[39mdetach()\u001b[38;5;241m.\u001b[39mnumpy()\u001b[38;5;241m.\u001b[39msqueeze()\n\u001b[0;32m     24\u001b[0m     mse_val \u001b[38;5;241m=\u001b[39m mean_squared_error(y_1, preds_val)\n",
      "Cell \u001b[1;32mIn[78], line 14\u001b[0m, in \u001b[0;36mtrain_single_mlp\u001b[1;34m(X_train, y_train, hidden_layers, max_iter)\u001b[0m\n\u001b[0;32m     12\u001b[0m     outputs \u001b[38;5;241m=\u001b[39m model(X_tensor)\n\u001b[0;32m     13\u001b[0m     loss \u001b[38;5;241m=\u001b[39m criterion(outputs, y_tensor)\n\u001b[1;32m---> 14\u001b[0m     loss\u001b[38;5;241m.\u001b[39mbackward()\n\u001b[0;32m     15\u001b[0m     optimizer\u001b[38;5;241m.\u001b[39mstep()\n\u001b[0;32m     17\u001b[0m \u001b[38;5;28;01mreturn\u001b[39;00m model\n",
      "File \u001b[1;32mc:\\Users\\Alice\\anaconda3\\Lib\\site-packages\\torch\\_tensor.py:626\u001b[0m, in \u001b[0;36mTensor.backward\u001b[1;34m(self, gradient, retain_graph, create_graph, inputs)\u001b[0m\n\u001b[0;32m    616\u001b[0m \u001b[38;5;28;01mif\u001b[39;00m has_torch_function_unary(\u001b[38;5;28mself\u001b[39m):\n\u001b[0;32m    617\u001b[0m     \u001b[38;5;28;01mreturn\u001b[39;00m handle_torch_function(\n\u001b[0;32m    618\u001b[0m         Tensor\u001b[38;5;241m.\u001b[39mbackward,\n\u001b[0;32m    619\u001b[0m         (\u001b[38;5;28mself\u001b[39m,),\n\u001b[1;32m   (...)\u001b[0m\n\u001b[0;32m    624\u001b[0m         inputs\u001b[38;5;241m=\u001b[39minputs,\n\u001b[0;32m    625\u001b[0m     )\n\u001b[1;32m--> 626\u001b[0m torch\u001b[38;5;241m.\u001b[39mautograd\u001b[38;5;241m.\u001b[39mbackward(\n\u001b[0;32m    627\u001b[0m     \u001b[38;5;28mself\u001b[39m, gradient, retain_graph, create_graph, inputs\u001b[38;5;241m=\u001b[39minputs\n\u001b[0;32m    628\u001b[0m )\n",
      "File \u001b[1;32mc:\\Users\\Alice\\anaconda3\\Lib\\site-packages\\torch\\autograd\\__init__.py:347\u001b[0m, in \u001b[0;36mbackward\u001b[1;34m(tensors, grad_tensors, retain_graph, create_graph, grad_variables, inputs)\u001b[0m\n\u001b[0;32m    342\u001b[0m     retain_graph \u001b[38;5;241m=\u001b[39m create_graph\n\u001b[0;32m    344\u001b[0m \u001b[38;5;66;03m# The reason we repeat the same comment below is that\u001b[39;00m\n\u001b[0;32m    345\u001b[0m \u001b[38;5;66;03m# some Python versions print out the first line of a multi-line function\u001b[39;00m\n\u001b[0;32m    346\u001b[0m \u001b[38;5;66;03m# calls in the traceback and some print out the last line\u001b[39;00m\n\u001b[1;32m--> 347\u001b[0m _engine_run_backward(\n\u001b[0;32m    348\u001b[0m     tensors,\n\u001b[0;32m    349\u001b[0m     grad_tensors_,\n\u001b[0;32m    350\u001b[0m     retain_graph,\n\u001b[0;32m    351\u001b[0m     create_graph,\n\u001b[0;32m    352\u001b[0m     inputs,\n\u001b[0;32m    353\u001b[0m     allow_unreachable\u001b[38;5;241m=\u001b[39m\u001b[38;5;28;01mTrue\u001b[39;00m,\n\u001b[0;32m    354\u001b[0m     accumulate_grad\u001b[38;5;241m=\u001b[39m\u001b[38;5;28;01mTrue\u001b[39;00m,\n\u001b[0;32m    355\u001b[0m )\n",
      "File \u001b[1;32mc:\\Users\\Alice\\anaconda3\\Lib\\site-packages\\torch\\autograd\\graph.py:823\u001b[0m, in \u001b[0;36m_engine_run_backward\u001b[1;34m(t_outputs, *args, **kwargs)\u001b[0m\n\u001b[0;32m    821\u001b[0m     unregister_hooks \u001b[38;5;241m=\u001b[39m _register_logging_hooks_on_whole_graph(t_outputs)\n\u001b[0;32m    822\u001b[0m \u001b[38;5;28;01mtry\u001b[39;00m:\n\u001b[1;32m--> 823\u001b[0m     \u001b[38;5;28;01mreturn\u001b[39;00m Variable\u001b[38;5;241m.\u001b[39m_execution_engine\u001b[38;5;241m.\u001b[39mrun_backward(  \u001b[38;5;66;03m# Calls into the C++ engine to run the backward pass\u001b[39;00m\n\u001b[0;32m    824\u001b[0m         t_outputs, \u001b[38;5;241m*\u001b[39margs, \u001b[38;5;241m*\u001b[39m\u001b[38;5;241m*\u001b[39mkwargs\n\u001b[0;32m    825\u001b[0m     )  \u001b[38;5;66;03m# Calls into the C++ engine to run the backward pass\u001b[39;00m\n\u001b[0;32m    826\u001b[0m \u001b[38;5;28;01mfinally\u001b[39;00m:\n\u001b[0;32m    827\u001b[0m     \u001b[38;5;28;01mif\u001b[39;00m attach_logging_hooks:\n",
      "\u001b[1;31mKeyboardInterrupt\u001b[0m: "
     ]
    }
   ],
   "source": [
    "best_val_model, best_arou_model, scaler, best_layers, best_iter = train_mlp_torch(\n",
    "    X_train, y_train_valence, y_train_arousal, X_val\n",
    ")\n"
   ]
  },
  {
   "cell_type": "code",
   "execution_count": 7,
   "metadata": {},
   "outputs": [
    {
     "ename": "NameError",
     "evalue": "name 'X_val_scaled' is not defined",
     "output_type": "error",
     "traceback": [
      "\u001b[1;31m---------------------------------------------------------------------------\u001b[0m",
      "\u001b[1;31mNameError\u001b[0m                                 Traceback (most recent call last)",
      "Cell \u001b[1;32mIn[7], line 2\u001b[0m\n\u001b[0;32m      1\u001b[0m results_scaled \u001b[38;5;241m=\u001b[39m evaluate_model(\n\u001b[1;32m----> 2\u001b[0m     X_val\u001b[38;5;241m=\u001b[39mX_val_scaled,\n\u001b[0;32m      3\u001b[0m     y_1_validation\u001b[38;5;241m=\u001b[39my_val_valence,\n\u001b[0;32m      4\u001b[0m     y_2_validation\u001b[38;5;241m=\u001b[39my_val_arousal,\n\u001b[0;32m      5\u001b[0m     model_predictions_file\u001b[38;5;241m=\u001b[39m\u001b[38;5;124m'\u001b[39m\u001b[38;5;124mcsv/AUdio_predictions_mlp_torch3.csv\u001b[39m\u001b[38;5;124m'\u001b[39m\n\u001b[0;32m      6\u001b[0m )\n",
      "\u001b[1;31mNameError\u001b[0m: name 'X_val_scaled' is not defined"
     ]
    }
   ],
   "source": [
    "results_scaled = evaluate_model(\n",
    "    X_val=X_val_scaled,\n",
    "    y_1_validation=y_val_valence,\n",
    "    y_2_validation=y_val_arousal,\n",
    "    model_predictions_file='csv/AUdio_predictions_mlp_torch3.csv'\n",
    ")"
   ]
  },
  {
   "cell_type": "markdown",
   "metadata": {},
   "source": [
    "## Test"
   ]
  },
  {
   "cell_type": "markdown",
   "metadata": {},
   "source": [
    "## try"
   ]
  },
  {
   "cell_type": "markdown",
   "metadata": {},
   "source": [
    "## 新的"
   ]
  },
  {
   "cell_type": "code",
   "execution_count": 76,
   "metadata": {},
   "outputs": [
    {
     "name": "stdout",
     "output_type": "stream",
     "text": [
      "🔍 Trying config: hidden_layers=(5,), max_iter=500\n",
      "🔍 Trying config: hidden_layers=(5,), max_iter=1000\n",
      "🔍 Trying config: hidden_layers=(10,), max_iter=500\n",
      "🔍 Trying config: hidden_layers=(10,), max_iter=1000\n",
      "🔍 Trying config: hidden_layers=(15,), max_iter=500\n",
      "🔍 Trying config: hidden_layers=(15,), max_iter=1000\n",
      "🔍 Trying config: hidden_layers=(5, 5), max_iter=500\n",
      "🔍 Trying config: hidden_layers=(5, 5), max_iter=1000\n",
      "🔍 Trying config: hidden_layers=(10, 10), max_iter=500\n",
      "🔍 Trying config: hidden_layers=(10, 10), max_iter=1000\n",
      "🔍 Trying config: hidden_layers=(15, 15), max_iter=500\n",
      "🔍 Trying config: hidden_layers=(15, 15), max_iter=1000\n",
      "✅ PyTorch MLP training completed and validation predictions saved.\n",
      "📊 Test Set Evaluation (PyTorch MLP)\n",
      "RMSE (Valence): 0.9549\n",
      "RMSE (Arousal): 0.8492\n",
      "R² (Valence): 0.1781\n",
      "R² (Arousal): 0.2044\n",
      "Normalized RMSE (Valence): 0.2584\n",
      "Normalized RMSE (Arousal): 0.1669\n"
     ]
    }
   ],
   "source": [
    "# 假设你训练完了\n",
    "best_val_model, best_arou_model, scaler, best_layers, best_iter = train_mlp_torch(X_train, y_train_valence, y_train_arousal, X_val)\n",
    "\n",
    "# 用训练集重新训练最终模型（PyTorch 版本）\n",
    "X_train_scaled = scaler.fit_transform(X_train)\n",
    "X_test_scaled = scaler.transform(X_test)\n",
    "\n",
    "model_val_final = train_single_mlp(X_train_scaled, y_train_valence, best_layers, best_iter)\n",
    "model_arou_final = train_single_mlp(X_train_scaled, y_train_arousal, best_layers, best_iter)\n",
    "\n",
    "# 测试集预测\n",
    "X_test_tensor = torch.tensor(X_test_scaled, dtype=torch.float32)\n",
    "pred_val = model_val_final(X_test_tensor).detach().numpy().squeeze()\n",
    "pred_arou = model_arou_final(X_test_tensor).detach().numpy().squeeze()\n",
    "\n",
    "# 计算评估指标\n",
    "from sklearn.metrics import mean_squared_error, r2_score\n",
    "\n",
    "rmse_val = mean_squared_error(y_test_valence, pred_val, squared=False)\n",
    "rmse_arou = mean_squared_error(y_test_arousal, pred_arou, squared=False)\n",
    "\n",
    "r2_val = r2_score(y_test_valence, pred_val)\n",
    "r2_arou = r2_score(y_test_arousal, pred_arou)\n",
    "\n",
    "# Normalized RMSE\n",
    "val_range = np.max(y_test_valence) - np.min(y_test_valence)\n",
    "arou_range = np.max(y_test_arousal) - np.min(y_test_arousal)\n",
    "nrmse_val = rmse_val / val_range\n",
    "nrmse_arou = rmse_arou / arou_range\n",
    "\n",
    "# 打印结果\n",
    "print(\"📊 Test Set Evaluation (PyTorch MLP)\")\n",
    "print(f\"RMSE (Valence): {rmse_val:.4f}\")\n",
    "print(f\"RMSE (Arousal): {rmse_arou:.4f}\")\n",
    "print(f\"R² (Valence): {r2_val:.4f}\")\n",
    "print(f\"R² (Arousal): {r2_arou:.4f}\")\n",
    "print(f\"Normalized RMSE (Valence): {nrmse_val:.4f}\")\n",
    "print(f\"Normalized RMSE (Arousal): {nrmse_arou:.4f}\")\n"
   ]
  },
  {
   "cell_type": "code",
   "execution_count": null,
   "metadata": {},
   "outputs": [
    {
     "name": "stdout",
     "output_type": "stream",
     "text": [
      "📊 Test RMSE (Valence): 0.9572\n",
      "📊 Test RMSE (Arousal): 0.8511\n",
      "📈 Test R² (Valence): 0.1740\n",
      "📈 Test R² (Arousal): 0.2007\n",
      "🧮 Normalized RMSE (Valence): 0.2591\n",
      "🧮 Normalized RMSE (Arousal): 0.1673\n"
     ]
    }
   ],
   "source": [
    "\n",
    "# 1. 归一化测试集\n",
    "X_test_scaled = scaler.transform(X_test)\n",
    "X_test_tensor = torch.tensor(X_test_scaled, dtype=torch.float32)\n",
    "\n",
    "# 2. 模型预测\n",
    "best_val_model_mlp_new.eval()\n",
    "best_arou_model_mlp_new.eval()\n",
    "with torch.no_grad():\n",
    "    pred_val_test = best_val_model_mlp_new(X_test_tensor).squeeze().numpy()\n",
    "    pred_arou_test = best_arou_model_mlp_new(X_test_tensor).squeeze().numpy()\n",
    "\n",
    "# 3. 计算评估指标\n",
    "rmse_val = mean_squared_error(y_test_valence, pred_val_test, squared=False)\n",
    "rmse_arou = mean_squared_error(y_test_arousal, pred_arou_test, squared=False)\n",
    "r2_val = r2_score(y_test_valence, pred_val_test)\n",
    "r2_arou = r2_score(y_test_arousal, pred_arou_test)\n",
    "# 计算标签范围（valence 和 arousal）\n",
    "valence_range = max(y_test_valence) - min(y_test_valence)\n",
    "arousal_range = max(y_test_arousal) - min(y_test_arousal)\n",
    "\n",
    "# 计算 Normalized RMSE\n",
    "nrmse_val = rmse_val / valence_range if valence_range > 0 else None\n",
    "nrmse_arou = rmse_arou / arousal_range if arousal_range > 0 else None\n",
    "\n",
    "\n",
    "# 4. 打印结果\n",
    "print(f\"📊 Test RMSE (Valence): {rmse_val:.4f}\")\n",
    "print(f\"📊 Test RMSE (Arousal): {rmse_arou:.4f}\")\n",
    "print(f\"📈 Test R² (Valence): {r2_val:.4f}\")\n",
    "print(f\"📈 Test R² (Arousal): {r2_arou:.4f}\")\n",
    "print(f\"🧮 Normalized RMSE (Valence): {nrmse_val:.4f}\")\n",
    "print(f\"🧮 Normalized RMSE (Arousal): {nrmse_arou:.4f}\")\n"
   ]
  },
  {
   "cell_type": "markdown",
   "metadata": {},
   "source": [
    "📊 Test RMSE (Valence): 0.9572\n",
    "📊 Test RMSE (Arousal): 0.8511\n",
    "📈 Test R² (Valence): 0.1740\n",
    "📈 Test R² (Arousal): 0.2007\n",
    "🧮 Normalized RMSE (Valence): 0.2591\n",
    "🧮 Normalized RMSE (Arousal): 0.1673"
   ]
  },
  {
   "cell_type": "markdown",
   "metadata": {},
   "source": [
    "# New MLP"
   ]
  },
  {
   "cell_type": "code",
   "execution_count": 60,
   "metadata": {},
   "outputs": [],
   "source": [
    "\n",
    "from sklearn.model_selection import train_test_split\n",
    "from sklearn.preprocessing import MinMaxScaler\n",
    "from itertools import product\n",
    "import random\n",
    "import os\n",
    "\n",
    "# 固定随机种子\n",
    "def set_seed(seed=2):\n",
    "    random.seed(seed)\n",
    "    np.random.seed(seed)\n",
    "    torch.manual_seed(seed)\n",
    "\n",
    "set_seed(2)\n",
    "\n",
    "# 自定义 MLP 模型\n",
    "class MLP(nn.Module):\n",
    "    def __init__(self, input_size, hidden_layer_sizes):\n",
    "        super(MLP, self).__init__()\n",
    "        layers = []\n",
    "        in_features = input_size\n",
    "        for h in hidden_layer_sizes:\n",
    "            layers.append(nn.Linear(in_features, h))\n",
    "            layers.append(nn.ReLU())\n",
    "            in_features = h\n",
    "        layers.append(nn.Linear(in_features, 1))  # 输出层\n",
    "        self.network = nn.Sequential(*layers)\n",
    "\n",
    "    def forward(self, x):\n",
    "        return self.network(x)\n",
    "\n",
    "# Early stopping + 训练函数\n",
    "def train_single_mlp(X_train, y_train, hidden_layers, max_iter, patience=20):\n",
    "    model = MLP(X_train.shape[1], hidden_layers)\n",
    "    criterion = nn.MSELoss()\n",
    "    optimizer = optim.Adam(model.parameters(), lr=0.001, weight_decay=1e-4)\n",
    "\n",
    "    X_tensor = torch.tensor(X_train, dtype=torch.float32)\n",
    "    y_tensor = torch.tensor(y_train, dtype=torch.float32).view(-1, 1)\n",
    "\n",
    "    best_loss = float('inf')\n",
    "    counter = 0\n",
    "    best_model_state = None\n",
    "\n",
    "    for epoch in range(max_iter):\n",
    "        model.train()\n",
    "        optimizer.zero_grad()\n",
    "        outputs = model(X_tensor)\n",
    "        loss = criterion(outputs, y_tensor)\n",
    "        loss.backward()\n",
    "        optimizer.step()\n",
    "\n",
    "        # Early stopping\n",
    "        if loss.item() < best_loss:\n",
    "            best_loss = loss.item()\n",
    "            best_model_state = model.state_dict()\n",
    "            counter = 0\n",
    "        else:\n",
    "            counter += 1\n",
    "            if counter >= patience:\n",
    "                print(f\"⏹️ Early stopping at epoch {epoch}\")\n",
    "                break\n",
    "\n",
    "    if best_model_state:\n",
    "        model.load_state_dict(best_model_state)\n",
    "    return model\n",
    "\n",
    "# 主训练函数\n",
    "def train_mlp_torch_improved(X, y_1, y_2, X_val, param_grid=None, output_csv='csv/Audio_predictions_mlp_torch_v2.csv'):\n",
    "    scaler = MinMaxScaler()\n",
    "    X_scaled = scaler.fit_transform(X)\n",
    "    X_val_scaled = scaler.transform(X_val)\n",
    "\n",
    "    # 分出训练集 + 内部验证集（用于 early stopping + 模拟 CV）\n",
    "    X_train_split, X_inner_val, y1_train_split, y1_val_split = train_test_split(X_scaled, y_1, test_size=0.2, random_state=2)\n",
    "    _, _, y2_train_split, y2_val_split = train_test_split(X_scaled, y_2, test_size=0.2, random_state=2)\n",
    "\n",
    "    if param_grid is None:\n",
    "        param_grid = {\n",
    "            'hidden_layer_sizes': [(5,), (10,), (15,), (5,5), (10,10), (15,15)],\n",
    "            'max_iter': [500, 1000]\n",
    "        }\n",
    "\n",
    "    best_val_model_mlp_new = None\n",
    "    best_arou_model_mlp_new = None\n",
    "    best_val_score = float('inf')\n",
    "    best_arou_score = float('inf')\n",
    "\n",
    "    for hidden_layers, max_iter in product(param_grid['hidden_layer_sizes'], param_grid['max_iter']):\n",
    "        print(f\"🔍 Trying config: hidden_layers={hidden_layers}, max_iter={max_iter}\")\n",
    "\n",
    "        # Valence\n",
    "        model_val = train_single_mlp(X_train_split, y1_train_split, hidden_layers, max_iter)\n",
    "        preds_val = model_val(torch.tensor(X_inner_val, dtype=torch.float32)).detach().numpy().squeeze()\n",
    "        mse_val = mean_squared_error(y1_val_split, preds_val)\n",
    "        print(f\"Valence MSE = {mse_val:.4f}\")\n",
    "        if mse_val < best_val_score:\n",
    "            best_val_score = mse_val\n",
    "            best_val_model_mlp_new = model_val\n",
    "\n",
    "        # Arousal\n",
    "        model_arou = train_single_mlp(X_train_split, y2_train_split, hidden_layers, max_iter)\n",
    "        preds_arou = model_arou(torch.tensor(X_inner_val, dtype=torch.float32)).detach().numpy().squeeze()\n",
    "        mse_arou = mean_squared_error(y2_val_split, preds_arou)\n",
    "        print(f\"Arousal MSE = {mse_arou:.4f}\")\n",
    "        if mse_arou < best_arou_score:\n",
    "            best_arou_score = mse_arou\n",
    "            best_arou_model_mlp_new = model_arou\n",
    "\n",
    "    # 在真正的 validation set 上预测\n",
    "    best_val_model_mlp_new.eval()\n",
    "    best_arou_model_mlp_new.eval()\n",
    "    with torch.no_grad():\n",
    "        X_val_tensor = torch.tensor(X_val_scaled, dtype=torch.float32)\n",
    "        predictions_val = best_val_model_mlp_new(X_val_tensor).squeeze().numpy()\n",
    "        predictions_arou = best_arou_model_mlp_new(X_val_tensor).squeeze().numpy()\n",
    "\n",
    "    # 保存为 CSV\n",
    "    os.makedirs(os.path.dirname(output_csv), exist_ok=True)\n",
    "    df_predictions = pd.DataFrame({\n",
    "        'pred_valence': predictions_val,\n",
    "        'pred_arousal': predictions_arou\n",
    "    })\n",
    "    df_predictions.to_csv(output_csv, index=False)\n",
    "\n",
    "    print(f\"✅ PyTorch MLP improved version completed and saved to '{output_csv}'\")\n",
    "    return best_val_model_mlp_new, best_arou_model_mlp_new, scaler\n"
   ]
  },
  {
   "cell_type": "markdown",
   "metadata": {},
   "source": [
    "##  Trainrain"
   ]
  },
  {
   "cell_type": "code",
   "execution_count": 61,
   "metadata": {},
   "outputs": [
    {
     "name": "stdout",
     "output_type": "stream",
     "text": [
      "🔍 Trying config: hidden_layers=(5,), max_iter=500\n",
      "Valence MSE = 0.9557\n",
      "Arousal MSE = 0.8084\n",
      "🔍 Trying config: hidden_layers=(5,), max_iter=1000\n",
      "Valence MSE = 0.9503\n",
      "Arousal MSE = 0.7980\n",
      "🔍 Trying config: hidden_layers=(10,), max_iter=500\n",
      "Valence MSE = 0.9648\n",
      "Arousal MSE = 0.8270\n",
      "🔍 Trying config: hidden_layers=(10,), max_iter=1000\n",
      "Valence MSE = 0.9518\n",
      "Arousal MSE = 0.7914\n",
      "🔍 Trying config: hidden_layers=(15,), max_iter=500\n",
      "Valence MSE = 0.9480\n",
      "Arousal MSE = 0.7988\n",
      "🔍 Trying config: hidden_layers=(15,), max_iter=1000\n",
      "Valence MSE = 0.9567\n",
      "Arousal MSE = 0.7884\n",
      "🔍 Trying config: hidden_layers=(5, 5), max_iter=500\n",
      "Valence MSE = 1.0275\n",
      "Arousal MSE = 0.7943\n",
      "🔍 Trying config: hidden_layers=(5, 5), max_iter=1000\n",
      "Valence MSE = 0.9487\n",
      "Arousal MSE = 0.7841\n",
      "🔍 Trying config: hidden_layers=(10, 10), max_iter=500\n",
      "Valence MSE = 0.9469\n",
      "Arousal MSE = 0.7940\n",
      "🔍 Trying config: hidden_layers=(10, 10), max_iter=1000\n",
      "Valence MSE = 0.9459\n",
      "Arousal MSE = 0.7826\n",
      "🔍 Trying config: hidden_layers=(15, 15), max_iter=500\n",
      "Valence MSE = 0.9500\n",
      "Arousal MSE = 0.7846\n",
      "🔍 Trying config: hidden_layers=(15, 15), max_iter=1000\n",
      "Valence MSE = 0.9533\n",
      "Arousal MSE = 0.7859\n",
      "✅ PyTorch MLP improved version completed and saved to 'csv/Audio_predictions_mlp_torch_v2.csv'\n"
     ]
    }
   ],
   "source": [
    "# 假设你有：X, y_valence, y_arousal, X_val\n",
    "best_val_model_mlp_new, best_arou_model_mlp_new, scaler = train_mlp_torch_improved(\n",
    "    X_train, y_train_valence, y_train_arousal, X_val\n",
    ")"
   ]
  },
  {
   "cell_type": "markdown",
   "metadata": {},
   "source": [
    "## validation"
   ]
  },
  {
   "cell_type": "code",
   "execution_count": 62,
   "metadata": {},
   "outputs": [
    {
     "name": "stdout",
     "output_type": "stream",
     "text": [
      "RMSE for Valence: 0.9620\n",
      "RMSE for Arousal: 0.8361\n",
      "Normalized RMSE for Valence: 0.2763\n",
      "Normalized RMSE for Arousal: 0.1643\n",
      "R² for Valence: 0.1386\n",
      "R² for Arousal: 0.2267\n"
     ]
    }
   ],
   "source": [
    "results_scaled = evaluate_model(\n",
    "    X_val=X_val_scaled,\n",
    "    y_1_validation=y_val_valence,\n",
    "    y_2_validation=y_val_arousal,\n",
    "    model_predictions_file='csv/Audio_predictions_mlp_torch_v2.csv'\n",
    ")"
   ]
  },
  {
   "cell_type": "markdown",
   "metadata": {},
   "source": [
    "## Test"
   ]
  },
  {
   "cell_type": "code",
   "execution_count": 63,
   "metadata": {},
   "outputs": [
    {
     "name": "stdout",
     "output_type": "stream",
     "text": [
      "📊 Test RMSE (Valence): 0.9586\n",
      "📊 Test RMSE (Arousal): 0.8469\n",
      "📈 Test R² (Valence): 0.1717\n",
      "📈 Test R² (Arousal): 0.2085\n",
      "🧮 Normalized RMSE (Valence): 0.2594\n",
      "🧮 Normalized RMSE (Arousal): 0.1664\n"
     ]
    }
   ],
   "source": [
    "# 1. Normalize the test set\n",
    "X_test_scaled = scaler.transform(X_test)\n",
    "X_test_tensor = torch.tensor(X_test_scaled, dtype=torch.float32)\n",
    "\n",
    "# 2. Model predictions\n",
    "best_val_model_mlp_new.eval()\n",
    "best_arou_model_mlp_new.eval()\n",
    "with torch.no_grad():\n",
    "    pred_val_test = best_val_model_mlp_new(X_test_tensor).squeeze().numpy()\n",
    "    pred_arou_test = best_arou_model_mlp_new(X_test_tensor).squeeze().numpy()\n",
    "\n",
    "# 3. Compute evaluation metrics\n",
    "rmse_val = mean_squared_error(y_test_valence, pred_val_test, squared=False)\n",
    "rmse_arou = mean_squared_error(y_test_arousal, pred_arou_test, squared=False)\n",
    "r2_val = r2_score(y_test_valence, pred_val_test)\n",
    "r2_arou = r2_score(y_test_arousal, pred_arou_test)\n",
    "\n",
    "# Compute label ranges (valence and arousal)\n",
    "valence_range = max(y_test_valence) - min(y_test_valence)\n",
    "arousal_range = max(y_test_arousal) - min(y_test_arousal)\n",
    "\n",
    "# Compute Normalized RMSE\n",
    "nrmse_val = rmse_val / valence_range if valence_range > 0 else None\n",
    "nrmse_arou = rmse_arou / arousal_range if arousal_range > 0 else None\n",
    "\n",
    "# 4. Print results\n",
    "print(f\"📊 Test RMSE (Valence): {rmse_val:.4f}\")\n",
    "print(f\"📊 Test RMSE (Arousal): {rmse_arou:.4f}\")\n",
    "print(f\"📈 Test R² (Valence): {r2_val:.4f}\")\n",
    "print(f\"📈 Test R² (Arousal): {r2_arou:.4f}\")\n",
    "print(f\"🧮 Normalized RMSE (Valence): {nrmse_val:.4f}\")\n",
    "print(f\"🧮 Normalized RMSE (Arousal): {nrmse_arou:.4f}\")"
   ]
  },
  {
   "cell_type": "code",
   "execution_count": null,
   "metadata": {},
   "outputs": [],
   "source": []
  }
 ],
 "metadata": {
  "kernelspec": {
   "display_name": "base",
   "language": "python",
   "name": "python3"
  },
  "language_info": {
   "codemirror_mode": {
    "name": "ipython",
    "version": 3
   },
   "file_extension": ".py",
   "mimetype": "text/x-python",
   "name": "python",
   "nbconvert_exporter": "python",
   "pygments_lexer": "ipython3",
   "version": "3.11.7"
  }
 },
 "nbformat": 4,
 "nbformat_minor": 2
}
